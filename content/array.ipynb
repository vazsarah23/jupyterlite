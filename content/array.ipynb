{
 "cells": [
  {
   "cell_type": "markdown",
   "id": "5874f98a-5745-4424-ac3c-e37360e798d8",
   "metadata": {},
   "source": [
    "# To print array of elements\n",
    "\n",
    "### Allow the user to enter the number of elements\n",
    "### enter the elements \n",
    "### print the elements\n"
   ]
  },
  {
   "cell_type": "code",
   "execution_count": 59,
   "id": "427677ea-d395-45ca-aa01-0f94a9f58110",
   "metadata": {},
   "outputs": [],
   "source": [
    "import numpy as np"
   ]
  },
  {
   "cell_type": "code",
   "execution_count": 61,
   "id": "0a3bc174-ec3f-480d-ac4a-b56796827178",
   "metadata": {},
   "outputs": [],
   "source": [
    "arr = []"
   ]
  },
  {
   "cell_type": "markdown",
   "id": "fa155525-d986-4b0f-bb18-cb0e1f0f0a86",
   "metadata": {},
   "source": [
    "## Enter the number of elements in the array,\n",
    "#### run the below cell"
   ]
  },
  {
   "cell_type": "code",
   "execution_count": 56,
   "id": "a52d4476-ce24-4268-9f9a-bda098b0245e",
   "metadata": {},
   "outputs": [
    {
     "name": "stdin",
     "output_type": "stream",
     "text": [
      "Enter the number of elements 5\n"
     ]
    },
    {
     "name": "stdout",
     "output_type": "stream",
     "text": [
      "number of elements is  5\n"
     ]
    }
   ],
   "source": [
    "\n",
    "num = int(input(\"Enter the number of elements\"))\n",
    "\n",
    "print('number of elements is ', num )\n"
   ]
  },
  {
   "cell_type": "markdown",
   "id": "9159a810-1818-4e1a-a9ba-817641868c4f",
   "metadata": {},
   "source": [
    "#### Enter the elements of the array"
   ]
  },
  {
   "cell_type": "code",
   "execution_count": 46,
   "id": "1acbcfd4-9e66-4ad8-a114-776bfa66b68b",
   "metadata": {},
   "outputs": [
    {
     "name": "stdin",
     "output_type": "stream",
     "text": [
      "enter num 6\n",
      "enter num 7\n",
      "enter num 6\n",
      "enter num 9\n",
      "enter num 7\n"
     ]
    },
    {
     "name": "stdout",
     "output_type": "stream",
     "text": [
      "array is ->  [6, 7, 6, 9, 7]\n"
     ]
    }
   ],
   "source": [
    " \n",
    "for i in range(0,num):\n",
    "    ele = int(input('enter num'))\n",
    "    arr.append(ele)\n",
    "print('array is -> ', arr)\n"
   ]
  },
  {
   "cell_type": "code",
   "execution_count": null,
   "id": "18fbea2d-60fc-4dcf-a507-c8b62f63fd7c",
   "metadata": {},
   "outputs": [],
   "source": []
  }
 ],
 "metadata": {
  "kernelspec": {
   "display_name": "Python [conda env:Orange]",
   "language": "python",
   "name": "conda-env-Orange-py"
  },
  "language_info": {
   "codemirror_mode": {
    "name": "ipython",
    "version": 3
   },
   "file_extension": ".py",
   "mimetype": "text/x-python",
   "name": "python",
   "nbconvert_exporter": "python",
   "pygments_lexer": "ipython3",
   "version": "3.11.8"
  }
 },
 "nbformat": 4,
 "nbformat_minor": 5
}
